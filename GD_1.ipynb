{
 "cells": [
  {
   "cell_type": "markdown",
   "metadata": {},
   "source": [
    "# Find the minimum of a function"
   ]
  },
  {
   "cell_type": "markdown",
   "metadata": {},
   "source": [
    "f(x,y)=4x^2-4xy+4y^2"
   ]
  },
  {
   "cell_type": "code",
   "execution_count": 1,
   "metadata": {},
   "outputs": [],
   "source": [
    "import sympy "
   ]
  },
  {
   "cell_type": "code",
   "execution_count": 2,
   "metadata": {},
   "outputs": [],
   "source": [
    "from sympy import lambdify,symbols"
   ]
  },
  {
   "cell_type": "markdown",
   "metadata": {},
   "source": [
    "## Initialization"
   ]
  },
  {
   "cell_type": "code",
   "execution_count": 50,
   "metadata": {},
   "outputs": [],
   "source": [
    "x=[1]\n",
    "t=2\n",
    "alpha=0.1\n",
    "e=0.01\n",
    "#create y[0] with random value ex: y[0]=1\n",
    "y=[1]"
   ]
  },
  {
   "cell_type": "markdown",
   "metadata": {},
   "source": [
    "# Derivative and Update"
   ]
  },
  {
   "cell_type": "code",
   "execution_count": 51,
   "metadata": {},
   "outputs": [
    {
     "name": "stdout",
     "output_type": "stream",
     "text": [
      "x: [1, 0.60]\n",
      "y: [1, 0.60]\n",
      "f: [4, 1.4]\n",
      "delta: [-2.6]\n"
     ]
    }
   ],
   "source": [
    "def Gradient(i):\n",
    "    x=symbols('x'+str(i))\n",
    "    y=symbols('y'+str(i)) #declair x,y with simpy then calculate\n",
    "    fxy=4*x**2-4*x*y+4*y**2\n",
    "    de_x=sympy.diff(fxy,x)  #derivative\n",
    "    de_y=sympy.diff(fxy,y) #derivative\n",
    "    return de_x, de_y\n",
    "\n",
    "f=[]\n",
    "f.append(4*x[0]**2-4*x[0]*y[0]+4*y[0]**2)\n",
    "deltaf=[]\n",
    "for i in range(0,t):\n",
    "    de_func_x, de_func_y = Gradient(i)\n",
    "    x.append(round(x[i] - alpha * de_func_x.subs([(symbols('x' + str(i)), x[i]), (symbols('y' + str(i)), y[i])]),2)) #8x[i]-4y[i]\n",
    "    y.append(round(y[i] - alpha * de_func_y.subs([(symbols('x' + str(i)), x[i]), (symbols('y' + str(i)), y[i])]),2)) #8y[i]-4x[i]\n",
    "    \n",
    "    # Stop addition\n",
    "    if f[i]>e:\n",
    "        f_new=4*x[i+1]**2-4*x[i+1]*y[i+1]+4*y[i+1]**2\n",
    "        f.append(f_new)\n",
    "        deltaf.append(f[i+1]-f[i])\n",
    "    if f[i]<=e and deltaf[i]<0:\n",
    "        break\n",
    "    break\n",
    "  \n",
    "\n",
    "print(\"x:\", x)\n",
    "print(\"y:\", y)\n",
    "print(f\"f: {f}\")\n",
    "print(f\"delta: {deltaf}\")"
   ]
  }
 ],
 "metadata": {
  "kernelspec": {
   "display_name": "tensorflow",
   "language": "python",
   "name": "python3"
  },
  "language_info": {
   "codemirror_mode": {
    "name": "ipython",
    "version": 3
   },
   "file_extension": ".py",
   "mimetype": "text/x-python",
   "name": "python",
   "nbconvert_exporter": "python",
   "pygments_lexer": "ipython3",
   "version": "3.10.13"
  }
 },
 "nbformat": 4,
 "nbformat_minor": 2
}
