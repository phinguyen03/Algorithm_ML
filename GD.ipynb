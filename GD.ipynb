{
 "cells": [
  {
   "cell_type": "markdown",
   "metadata": {},
   "source": [
    "# Find the minimum of a function"
   ]
  },
  {
   "cell_type": "markdown",
   "metadata": {},
   "source": [
    "f(x)=x^2+5sin(x)"
   ]
  },
  {
   "cell_type": "code",
   "execution_count": 1,
   "metadata": {},
   "outputs": [],
   "source": [
    "import sympy\n",
    "import numpy as np"
   ]
  },
  {
   "cell_type": "code",
   "execution_count": 2,
   "metadata": {},
   "outputs": [],
   "source": [
    "from sympy import symbols,sin,lambdify"
   ]
  },
  {
   "cell_type": "markdown",
   "metadata": {},
   "source": [
    "## Initialization"
   ]
  },
  {
   "cell_type": "code",
   "execution_count": 21,
   "metadata": {},
   "outputs": [],
   "source": [
    "x=[1]\n",
    "t=2\n",
    "alpha=0.1\n",
    "e=10**-2"
   ]
  },
  {
   "cell_type": "markdown",
   "metadata": {},
   "source": [
    "## Derivative"
   ]
  },
  {
   "cell_type": "code",
   "execution_count": 22,
   "metadata": {},
   "outputs": [],
   "source": [
    "def deri(i):\n",
    "    x=symbols('x'+str(i))\n",
    "    fx=x**2+5*sympy.sin(x)\n",
    "    de = sympy.diff(fx, x)  #derivative\n",
    "    de_func=sympy.lambdify(x,de,'numpy') #assignment x\n",
    "    return de_func"
   ]
  },
  {
   "cell_type": "markdown",
   "metadata": {},
   "source": [
    "# Update"
   ]
  },
  {
   "cell_type": "code",
   "execution_count": 23,
   "metadata": {},
   "outputs": [
    {
     "name": "stdout",
     "output_type": "stream",
     "text": [
      "x: [1, 0.53, -0.01]\n",
      "f: [5.207354924039483, 2.8085667060242345, -0.04989916667083332]\n",
      "delta: [-2.398788218015248, -2.858465872695068]\n"
     ]
    }
   ],
   "source": [
    "f=[]\n",
    "f.append(x[0]**2+5*np.sin(x[0]))\n",
    "deltaf=[]\n",
    "for i in range(0,t):\n",
    "    deri_func=deri(i)\n",
    "    x.append(round(x[i]-alpha*(deri_func(x[i])),2))\n",
    "    f.append(x[i+1]**2+5*np.sin(x[i+1]))\n",
    "    \n",
    "    if f[i]<=e:\n",
    "        break\n",
    "    else:\n",
    "        deltaf.append(f[i+1]-f[i])\n",
    "     \n",
    "    \n",
    "   \n",
    "    \n",
    "\n",
    "print(f\"x: {x}\")\n",
    "print(f\"f: {f}\")\n",
    "print(f\"delta: {deltaf}\")\n",
    "    \n",
    "\n",
    "    \n",
    "   \n"
   ]
  }
 ],
 "metadata": {
  "kernelspec": {
   "display_name": "tensorflow",
   "language": "python",
   "name": "python3"
  },
  "language_info": {
   "codemirror_mode": {
    "name": "ipython",
    "version": 3
   },
   "file_extension": ".py",
   "mimetype": "text/x-python",
   "name": "python",
   "nbconvert_exporter": "python",
   "pygments_lexer": "ipython3",
   "version": "3.10.13"
  }
 },
 "nbformat": 4,
 "nbformat_minor": 2
}
